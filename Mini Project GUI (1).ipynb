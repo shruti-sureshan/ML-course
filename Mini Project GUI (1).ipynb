{
 "cells": [
  {
   "cell_type": "markdown",
   "metadata": {},
   "source": [
    "# Libraries\n"
   ]
  },
  {
   "cell_type": "code",
   "execution_count": 59,
   "metadata": {},
   "outputs": [],
   "source": [
    "from sklearn.tree import DecisionTreeClassifier\n",
    "from sklearn.model_selection import train_test_split\n",
    "from sklearn.ensemble import RandomForestClassifier\n",
    "from sklearn.metrics import classification_report,confusion_matrix\n",
    "from sklearn.linear_model import LogisticRegression\n",
    "from matplotlib.backends.backend_tkagg import FigureCanvasTkAgg\n",
    "from matplotlib.figure import Figure\n",
    "from tkinter import *\n",
    "import pandas as pd\n",
    "import numpy as np\n",
    "import matplotlib.pyplot as plt\n",
    "import seaborn as sns\n",
    "%matplotlib inline"
   ]
  },
  {
   "cell_type": "markdown",
   "metadata": {},
   "source": [
    "## Reading DF - Train,Test,Split"
   ]
  },
  {
   "cell_type": "code",
   "execution_count": 25,
   "metadata": {},
   "outputs": [],
   "source": [
    "df = pd.read_csv('liver.csv')\n",
    "Xd = df.drop('selector',axis=1)\n",
    "yd = df['selector']\n",
    "X_train, X_test, y_train, y_test = train_test_split(Xd, yd, test_size=0.30)"
   ]
  },
  {
   "cell_type": "markdown",
   "metadata": {},
   "source": [
    "# Methods"
   ]
  },
  {
   "cell_type": "code",
   "execution_count": 54,
   "metadata": {},
   "outputs": [],
   "source": [
    "def draw_graph(event):\n",
    "    fig = Figure(figsize=(7,6), dpi=100)\n",
    "    ax = fig.add_subplot(111)\n",
    "    sns.countplot(x='selector',data=df,ax=ax)\n",
    "    canvas = FigureCanvasTkAgg(fig, master=graphSection)\n",
    "    canvas.get_tk_widget().grid(row=3, column=0,padx=10,pady=10)\n"
   ]
  },
  {
   "cell_type": "code",
   "execution_count": 60,
   "metadata": {},
   "outputs": [],
   "source": [
    "def applyLogistic(mcv,alkphos,sgpt,sgot,gammagt,drinks):\n",
    "    logmodel = LogisticRegression()\n",
    "    logmodel.fit(X_train,y_train)\n",
    "    \n",
    "    #apply prediction for input fields\n",
    "    pred = logmodel.predict(np.array([mcv,alkphos,sgpt,sgot,gammagt,drinks]).reshape(1,-1))\n",
    "    \n",
    "    #apply predictions for data set\n",
    "    predictions = logmodel.predict(X_test)\n",
    "    \n",
    "    #update class entry field\n",
    "    classEntry.delete(0,\"end\")\n",
    "    if(pred[0] == 1):\n",
    "        classEntry.insert(0,\"ABSENT\")\n",
    "    else:\n",
    "        classEntry.insert(0,\"PRESENT\")\n",
    "        \n",
    "    #update accuracy field\n",
    "    cr = classification_report(y_test,predictions,output_dict=True)\n",
    "    accuracyEntry.insert(0,cr['1']['precision'])\n",
    "    \n",
    "    #update confusion matrix\n",
    "    cf = confusion_matrix(y_test,predictions)\n",
    "    canvas_id = confMatCanvas.create_text(10, 10, anchor=\"nw\")\n",
    "    confMatCanvas.itemconfig(canvas_id, text=cf)\n",
    "    confMatCanvas.insert(canvas_id, 12, \"\")"
   ]
  },
  {
   "cell_type": "code",
   "execution_count": 61,
   "metadata": {},
   "outputs": [],
   "source": [
    "def applyDT(mcv,alkphos,sgpt,sgot,gammagt,drinks):\n",
    "    #create model\n",
    "    rfc = RandomForestClassifier(n_estimators=110)\n",
    "    rfc.fit(X_train, y_train)\n",
    "    \n",
    "    #apply prediction for input fields\n",
    "    pred = rfc.predict(np.array([mcv,alkphos,sgpt,sgot,gammagt,drinks]).reshape(1,-1))\n",
    "    \n",
    "    #apply predictions for data set\n",
    "    predictions = rfc.predict(X_test)\n",
    "    \n",
    "    #update class entry field\n",
    "    classEntry.delete(0,\"end\")\n",
    "    if(pred[0] == 1):\n",
    "        classEntry.insert(0,\"ABSENT\")\n",
    "    else:\n",
    "        classEntry.insert(0,\"PRESENT\")\n",
    "        \n",
    "    #update accuracy field\n",
    "    cr = classification_report(y_test,predictions,output_dict=True)\n",
    "    accuracyEntry.insert(0,cr['1']['precision'])\n",
    "    \n",
    "    #update confusion matrix\n",
    "    cf = confusion_matrix(y_test,predictions)\n",
    "    canvas_id = confMatCanvas.create_text(10, 10, anchor=\"nw\")\n",
    "    confMatCanvas.itemconfig(canvas_id, text=cf)\n",
    "    confMatCanvas.insert(canvas_id, 12, \"\")"
   ]
  },
  {
   "cell_type": "code",
   "execution_count": 62,
   "metadata": {},
   "outputs": [],
   "source": [
    "#main driver function\n",
    "def get_prediction(event):\n",
    "    #take inputs\n",
    "    mcv = int(mcvEntry.get())\n",
    "    alkphos = int(alkphosEntry.get())\n",
    "    sgpt = int(sgptEntry.get())\n",
    "    sgot = int(sgotEntry.get())\n",
    "    gammagt = int(gammagtEntry.get())\n",
    "    drinks = float(drinksEntry.get())\n",
    "    \n",
    "    #check which algorithm user has selected \n",
    "    if(var.get()==\"1\"):\n",
    "        applyLogistic(mcv,alkphos,sgpt,sgot,gammagt,drinks)\n",
    "    else:\n",
    "        applyDT(mcv,alkphos,sgpt,sgot,gammagt,drinks)\n",
    "        "
   ]
  },
  {
   "cell_type": "markdown",
   "metadata": {},
   "source": [
    "# GUI\n",
    "\n",
    "To use place(), give the frame a width and height.\n",
    "Frames on the same level should ude the same geometry manager"
   ]
  },
  {
   "cell_type": "code",
   "execution_count": 63,
   "metadata": {},
   "outputs": [
    {
     "name": "stderr",
     "output_type": "stream",
     "text": [
      "C:\\Users\\Calvin\\Anaconda3\\lib\\site-packages\\sklearn\\linear_model\\logistic.py:433: FutureWarning: Default solver will be changed to 'lbfgs' in 0.22. Specify a solver to silence this warning.\n",
      "  FutureWarning)\n"
     ]
    }
   ],
   "source": [
    "#main tkinter object called root\n",
    "root = Tk()\n",
    "\n",
    "#INPUT AREA\n",
    "inputSection = LabelFrame(root,text=\"Input Fields\")\n",
    "\n",
    "mvcLabel =  Label(inputSection,text=\"mcv\").grid(row=1,column=0)\n",
    "mcvEntry = Entry(inputSection,width=10)\n",
    "mcvEntry.grid(row=1,column=2)\n",
    "\n",
    "alkphosLabel =  Label(inputSection,text=\"alkphos\").grid(row=2,column=0)\n",
    "alkphosEntry = Entry(inputSection,width=10)\n",
    "alkphosEntry.grid(row=2,column=2)\n",
    "\n",
    "sgptLabel = Label(inputSection,text=\"sgpt\").grid(row=3,column=0)\n",
    "sgptEntry = Entry(inputSection,width=10)\n",
    "sgptEntry.grid(row=3,column=2)\n",
    "\n",
    "sgotLabel = Label(inputSection,text=\"sgot\").grid(row=4,column=0)\n",
    "sgotEntry = Entry(inputSection,width=10)\n",
    "sgotEntry.grid(row=4,column=2)\n",
    "\n",
    "gammagtLabel = Label(inputSection,text=\"gammagt\").grid(row=5,column=0)\n",
    "gammagtEntry = Entry(inputSection,width=10)\n",
    "gammagtEntry.grid(row=5,column=2)\n",
    "\n",
    "drinksLabel = Label(inputSection,text=\"drinks\").grid(row=6,column=0)\n",
    "drinksEntry = Entry(inputSection,width=10)\n",
    "drinksEntry.grid(row=6,column=2)\n",
    "\n",
    "Label(inputSection,text=\"Test Size\").grid(row=7,column=0)\n",
    "slider = Scale(inputSection, from_=0, to=50, orient=HORIZONTAL)\n",
    "slider.grid(row=7,column=2)\n",
    "\n",
    "inputSection.place(x=5,y=5)\n",
    "\n",
    "#ALGORITHM SELECTION AREA\n",
    "algorithmSection = LabelFrame(root,text=\"Algorithms\")\n",
    "\n",
    "#var is a variable to get the radiobutton that has been selected\n",
    "var = StringVar()\n",
    "LogisticButton = Radiobutton(algorithmSection,text=\"Logistic\",value=\"1\",variable=var)\n",
    "LogisticButton.grid(row=0,column=0)\n",
    "\n",
    "DTButton = Radiobutton(algorithmSection,text=\"Decision Tree\",value=\"2\",variable=var)\n",
    "DTButton.grid(row=1,column=0)\n",
    "\n",
    "algorithmSection.place(x=5,y=200)\n",
    "\n",
    "#PREDICT BUTTON\n",
    "predict = Button(root,text=\"PREDICT\")\n",
    "predict.bind('<Button-1>',get_prediction)\n",
    "predict.place(x=5,y=300)\n",
    "\n",
    "\n",
    "#OUTPUT AREA\n",
    "outputSection = LabelFrame(root,text=\"Prediction and Outputs\")\n",
    "\n",
    "accuracyLabel = Label(outputSection,text=\"Accuracy\").grid(row=0,column=0)\n",
    "accuracyEntry = Entry(outputSection,width=10)\n",
    "accuracyEntry.grid(row=0,column=2)\n",
    "\n",
    "confMatLabel = Label(outputSection,text=\"Confusion Matrix\").grid(row=1,column=0)\n",
    "confMatCanvas = Canvas(outputSection,width=90, height=90,bg=\"white\")\n",
    "confMatCanvas.grid(row=1,column=2,padx=5,pady=5)\n",
    "\n",
    "classLabel = Label(outputSection,text=\"Predicted Class\").grid(row=2,column=0)\n",
    "classEntry = Entry(outputSection,width=10)\n",
    "classEntry.grid(row=2,column=2,padx=5,pady=5)\n",
    "\n",
    "outputSection.place(x=5,y=400)\n",
    "\n",
    "\n",
    "#VISUALISATION AND PLOTTING AREA\n",
    "graphSection = LabelFrame(root,text=\"Graphs/Plots\")\n",
    "\n",
    "plot = Button(graphSection,text=\"PLOT\")\n",
    "plot.bind('<Button-1>',draw_graph)\n",
    "plot.grid(row=1,column=0,padx=10,pady=10)\n",
    "\n",
    "graphSection.place(x=500,y=5)\n",
    "\n",
    "root.mainloop()"
   ]
  },
  {
   "cell_type": "code",
   "execution_count": null,
   "metadata": {},
   "outputs": [],
   "source": []
  }
 ],
 "metadata": {
  "kernelspec": {
   "display_name": "Python 3",
   "language": "python",
   "name": "python3"
  },
  "language_info": {
   "codemirror_mode": {
    "name": "ipython",
    "version": 3
   },
   "file_extension": ".py",
   "mimetype": "text/x-python",
   "name": "python",
   "nbconvert_exporter": "python",
   "pygments_lexer": "ipython3",
   "version": "3.7.1"
  }
 },
 "nbformat": 4,
 "nbformat_minor": 2
}
